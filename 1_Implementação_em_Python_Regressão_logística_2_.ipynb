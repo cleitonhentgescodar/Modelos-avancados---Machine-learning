{
  "nbformat": 4,
  "nbformat_minor": 0,
  "metadata": {
    "colab": {
      "provenance": []
    },
    "kernelspec": {
      "name": "python3",
      "display_name": "Python 3"
    },
    "language_info": {
      "name": "python"
    }
  },
  "cells": [
    {
      "cell_type": "markdown",
      "source": [
        "\n",
        "# Implementação em Python - Regressão logística\n"
      ],
      "metadata": {
        "id": "zxl6euxaEmuj"
      }
    },
    {
      "cell_type": "markdown",
      "source": [
        "Nessa aula, aprenderemos a montar na prática, utilizando Python, um modelo de regressão logística para realizar previsões. Como vimos a regressão logística é uma técnica estatística usada para modelar a probabilidade de um evento binário (por exemplo, sucesso/falha, sim/não)."
      ],
      "metadata": {
        "id": "Q7j_3OHiGbbr"
      }
    },
    {
      "cell_type": "markdown",
      "source": [
        "# Nosso projeto:"
      ],
      "metadata": {
        "id": "IhM2UjaFHlA5"
      }
    },
    {
      "cell_type": "markdown",
      "source": [
        "Imagine que a empresa de carros que trabalhamos, tem capturado leads (formulárioss com informações) de todos clientes interessados que acessam o site da loja.\n",
        "Então mesmo que o cliente não realize a compra, temos essas informações cadastradas.\n",
        "\n",
        "O time de vendas nos pediu para criar um modelo que ao capturar as informações do cliente indique se ele tem uma alta probabilidade a compra do carro, para que um cupom de 5% salte na tela para esses clientes com maior propensão.\n",
        "Caso o cliente não tenha, não receberá mensagem de desconto algum.\n",
        "Abaixo temos a base dos leads já capturados para podermos treinar e testar nosso modelo!"
      ],
      "metadata": {
        "id": "sD7qKx3FG8LF"
      }
    },
    {
      "cell_type": "code",
      "source": [
        "import pandas as pd\n",
        "import matplotlib.pyplot as plt\n",
        "import seaborn as sns\n",
        "from sklearn.model_selection import train_test_split\n",
        "from sklearn.metrics import accuracy_score, classification_report\n",
        "from imblearn.over_sampling import SMOTE"
      ],
      "metadata": {
        "id": "IjvThv2tIFV4"
      },
      "execution_count": null,
      "outputs": []
    },
    {
      "cell_type": "code",
      "source": [
        "base = pd.read_csv(\"CARRO_CLIENTES.csv\", delimiter=',')"
      ],
      "metadata": {
        "id": "xq4Rm7P7Ga9N"
      },
      "execution_count": null,
      "outputs": []
    },
    {
      "cell_type": "code",
      "execution_count": null,
      "metadata": {
        "colab": {
          "base_uri": "https://localhost:8080/",
          "height": 423
        },
        "id": "wfVpkVV85vB6",
        "outputId": "91b2ce62-2400-40aa-8ebf-af2e34a14d4c"
      },
      "outputs": [
        {
          "output_type": "execute_result",
          "data": {
            "text/plain": [
              "     User ID  Gender  Age  AnnualSalary  Purchased\n",
              "0        385    Male   35         20000          0\n",
              "1        681    Male   40         43500          0\n",
              "2        353    Male   49         74000          0\n",
              "3        895    Male   40        107500          1\n",
              "4        661    Male   25         79000          0\n",
              "..       ...     ...  ...           ...        ...\n",
              "995      863    Male   38         59000          0\n",
              "996      800  Female   47         23500          0\n",
              "997      407  Female   28        138500          1\n",
              "998      299  Female   48        134000          1\n",
              "999      687  Female   44         73500          0\n",
              "\n",
              "[1000 rows x 5 columns]"
            ],
            "text/html": [
              "\n",
              "  <div id=\"df-c4d0e6ff-c939-45c8-b4cf-8e675ec9187f\" class=\"colab-df-container\">\n",
              "    <div>\n",
              "<style scoped>\n",
              "    .dataframe tbody tr th:only-of-type {\n",
              "        vertical-align: middle;\n",
              "    }\n",
              "\n",
              "    .dataframe tbody tr th {\n",
              "        vertical-align: top;\n",
              "    }\n",
              "\n",
              "    .dataframe thead th {\n",
              "        text-align: right;\n",
              "    }\n",
              "</style>\n",
              "<table border=\"1\" class=\"dataframe\">\n",
              "  <thead>\n",
              "    <tr style=\"text-align: right;\">\n",
              "      <th></th>\n",
              "      <th>User ID</th>\n",
              "      <th>Gender</th>\n",
              "      <th>Age</th>\n",
              "      <th>AnnualSalary</th>\n",
              "      <th>Purchased</th>\n",
              "    </tr>\n",
              "  </thead>\n",
              "  <tbody>\n",
              "    <tr>\n",
              "      <th>0</th>\n",
              "      <td>385</td>\n",
              "      <td>Male</td>\n",
              "      <td>35</td>\n",
              "      <td>20000</td>\n",
              "      <td>0</td>\n",
              "    </tr>\n",
              "    <tr>\n",
              "      <th>1</th>\n",
              "      <td>681</td>\n",
              "      <td>Male</td>\n",
              "      <td>40</td>\n",
              "      <td>43500</td>\n",
              "      <td>0</td>\n",
              "    </tr>\n",
              "    <tr>\n",
              "      <th>2</th>\n",
              "      <td>353</td>\n",
              "      <td>Male</td>\n",
              "      <td>49</td>\n",
              "      <td>74000</td>\n",
              "      <td>0</td>\n",
              "    </tr>\n",
              "    <tr>\n",
              "      <th>3</th>\n",
              "      <td>895</td>\n",
              "      <td>Male</td>\n",
              "      <td>40</td>\n",
              "      <td>107500</td>\n",
              "      <td>1</td>\n",
              "    </tr>\n",
              "    <tr>\n",
              "      <th>4</th>\n",
              "      <td>661</td>\n",
              "      <td>Male</td>\n",
              "      <td>25</td>\n",
              "      <td>79000</td>\n",
              "      <td>0</td>\n",
              "    </tr>\n",
              "    <tr>\n",
              "      <th>...</th>\n",
              "      <td>...</td>\n",
              "      <td>...</td>\n",
              "      <td>...</td>\n",
              "      <td>...</td>\n",
              "      <td>...</td>\n",
              "    </tr>\n",
              "    <tr>\n",
              "      <th>995</th>\n",
              "      <td>863</td>\n",
              "      <td>Male</td>\n",
              "      <td>38</td>\n",
              "      <td>59000</td>\n",
              "      <td>0</td>\n",
              "    </tr>\n",
              "    <tr>\n",
              "      <th>996</th>\n",
              "      <td>800</td>\n",
              "      <td>Female</td>\n",
              "      <td>47</td>\n",
              "      <td>23500</td>\n",
              "      <td>0</td>\n",
              "    </tr>\n",
              "    <tr>\n",
              "      <th>997</th>\n",
              "      <td>407</td>\n",
              "      <td>Female</td>\n",
              "      <td>28</td>\n",
              "      <td>138500</td>\n",
              "      <td>1</td>\n",
              "    </tr>\n",
              "    <tr>\n",
              "      <th>998</th>\n",
              "      <td>299</td>\n",
              "      <td>Female</td>\n",
              "      <td>48</td>\n",
              "      <td>134000</td>\n",
              "      <td>1</td>\n",
              "    </tr>\n",
              "    <tr>\n",
              "      <th>999</th>\n",
              "      <td>687</td>\n",
              "      <td>Female</td>\n",
              "      <td>44</td>\n",
              "      <td>73500</td>\n",
              "      <td>0</td>\n",
              "    </tr>\n",
              "  </tbody>\n",
              "</table>\n",
              "<p>1000 rows × 5 columns</p>\n",
              "</div>\n",
              "    <div class=\"colab-df-buttons\">\n",
              "\n",
              "  <div class=\"colab-df-container\">\n",
              "    <button class=\"colab-df-convert\" onclick=\"convertToInteractive('df-c4d0e6ff-c939-45c8-b4cf-8e675ec9187f')\"\n",
              "            title=\"Convert this dataframe to an interactive table.\"\n",
              "            style=\"display:none;\">\n",
              "\n",
              "  <svg xmlns=\"http://www.w3.org/2000/svg\" height=\"24px\" viewBox=\"0 -960 960 960\">\n",
              "    <path d=\"M120-120v-720h720v720H120Zm60-500h600v-160H180v160Zm220 220h160v-160H400v160Zm0 220h160v-160H400v160ZM180-400h160v-160H180v160Zm440 0h160v-160H620v160ZM180-180h160v-160H180v160Zm440 0h160v-160H620v160Z\"/>\n",
              "  </svg>\n",
              "    </button>\n",
              "\n",
              "  <style>\n",
              "    .colab-df-container {\n",
              "      display:flex;\n",
              "      gap: 12px;\n",
              "    }\n",
              "\n",
              "    .colab-df-convert {\n",
              "      background-color: #E8F0FE;\n",
              "      border: none;\n",
              "      border-radius: 50%;\n",
              "      cursor: pointer;\n",
              "      display: none;\n",
              "      fill: #1967D2;\n",
              "      height: 32px;\n",
              "      padding: 0 0 0 0;\n",
              "      width: 32px;\n",
              "    }\n",
              "\n",
              "    .colab-df-convert:hover {\n",
              "      background-color: #E2EBFA;\n",
              "      box-shadow: 0px 1px 2px rgba(60, 64, 67, 0.3), 0px 1px 3px 1px rgba(60, 64, 67, 0.15);\n",
              "      fill: #174EA6;\n",
              "    }\n",
              "\n",
              "    .colab-df-buttons div {\n",
              "      margin-bottom: 4px;\n",
              "    }\n",
              "\n",
              "    [theme=dark] .colab-df-convert {\n",
              "      background-color: #3B4455;\n",
              "      fill: #D2E3FC;\n",
              "    }\n",
              "\n",
              "    [theme=dark] .colab-df-convert:hover {\n",
              "      background-color: #434B5C;\n",
              "      box-shadow: 0px 1px 3px 1px rgba(0, 0, 0, 0.15);\n",
              "      filter: drop-shadow(0px 1px 2px rgba(0, 0, 0, 0.3));\n",
              "      fill: #FFFFFF;\n",
              "    }\n",
              "  </style>\n",
              "\n",
              "    <script>\n",
              "      const buttonEl =\n",
              "        document.querySelector('#df-c4d0e6ff-c939-45c8-b4cf-8e675ec9187f button.colab-df-convert');\n",
              "      buttonEl.style.display =\n",
              "        google.colab.kernel.accessAllowed ? 'block' : 'none';\n",
              "\n",
              "      async function convertToInteractive(key) {\n",
              "        const element = document.querySelector('#df-c4d0e6ff-c939-45c8-b4cf-8e675ec9187f');\n",
              "        const dataTable =\n",
              "          await google.colab.kernel.invokeFunction('convertToInteractive',\n",
              "                                                    [key], {});\n",
              "        if (!dataTable) return;\n",
              "\n",
              "        const docLinkHtml = 'Like what you see? Visit the ' +\n",
              "          '<a target=\"_blank\" href=https://colab.research.google.com/notebooks/data_table.ipynb>data table notebook</a>'\n",
              "          + ' to learn more about interactive tables.';\n",
              "        element.innerHTML = '';\n",
              "        dataTable['output_type'] = 'display_data';\n",
              "        await google.colab.output.renderOutput(dataTable, element);\n",
              "        const docLink = document.createElement('div');\n",
              "        docLink.innerHTML = docLinkHtml;\n",
              "        element.appendChild(docLink);\n",
              "      }\n",
              "    </script>\n",
              "  </div>\n",
              "\n",
              "\n",
              "<div id=\"df-5de78ec3-95a1-49b6-84c0-4a33e180e0b1\">\n",
              "  <button class=\"colab-df-quickchart\" onclick=\"quickchart('df-5de78ec3-95a1-49b6-84c0-4a33e180e0b1')\"\n",
              "            title=\"Suggest charts\"\n",
              "            style=\"display:none;\">\n",
              "\n",
              "<svg xmlns=\"http://www.w3.org/2000/svg\" height=\"24px\"viewBox=\"0 0 24 24\"\n",
              "     width=\"24px\">\n",
              "    <g>\n",
              "        <path d=\"M19 3H5c-1.1 0-2 .9-2 2v14c0 1.1.9 2 2 2h14c1.1 0 2-.9 2-2V5c0-1.1-.9-2-2-2zM9 17H7v-7h2v7zm4 0h-2V7h2v10zm4 0h-2v-4h2v4z\"/>\n",
              "    </g>\n",
              "</svg>\n",
              "  </button>\n",
              "\n",
              "<style>\n",
              "  .colab-df-quickchart {\n",
              "      --bg-color: #E8F0FE;\n",
              "      --fill-color: #1967D2;\n",
              "      --hover-bg-color: #E2EBFA;\n",
              "      --hover-fill-color: #174EA6;\n",
              "      --disabled-fill-color: #AAA;\n",
              "      --disabled-bg-color: #DDD;\n",
              "  }\n",
              "\n",
              "  [theme=dark] .colab-df-quickchart {\n",
              "      --bg-color: #3B4455;\n",
              "      --fill-color: #D2E3FC;\n",
              "      --hover-bg-color: #434B5C;\n",
              "      --hover-fill-color: #FFFFFF;\n",
              "      --disabled-bg-color: #3B4455;\n",
              "      --disabled-fill-color: #666;\n",
              "  }\n",
              "\n",
              "  .colab-df-quickchart {\n",
              "    background-color: var(--bg-color);\n",
              "    border: none;\n",
              "    border-radius: 50%;\n",
              "    cursor: pointer;\n",
              "    display: none;\n",
              "    fill: var(--fill-color);\n",
              "    height: 32px;\n",
              "    padding: 0;\n",
              "    width: 32px;\n",
              "  }\n",
              "\n",
              "  .colab-df-quickchart:hover {\n",
              "    background-color: var(--hover-bg-color);\n",
              "    box-shadow: 0 1px 2px rgba(60, 64, 67, 0.3), 0 1px 3px 1px rgba(60, 64, 67, 0.15);\n",
              "    fill: var(--button-hover-fill-color);\n",
              "  }\n",
              "\n",
              "  .colab-df-quickchart-complete:disabled,\n",
              "  .colab-df-quickchart-complete:disabled:hover {\n",
              "    background-color: var(--disabled-bg-color);\n",
              "    fill: var(--disabled-fill-color);\n",
              "    box-shadow: none;\n",
              "  }\n",
              "\n",
              "  .colab-df-spinner {\n",
              "    border: 2px solid var(--fill-color);\n",
              "    border-color: transparent;\n",
              "    border-bottom-color: var(--fill-color);\n",
              "    animation:\n",
              "      spin 1s steps(1) infinite;\n",
              "  }\n",
              "\n",
              "  @keyframes spin {\n",
              "    0% {\n",
              "      border-color: transparent;\n",
              "      border-bottom-color: var(--fill-color);\n",
              "      border-left-color: var(--fill-color);\n",
              "    }\n",
              "    20% {\n",
              "      border-color: transparent;\n",
              "      border-left-color: var(--fill-color);\n",
              "      border-top-color: var(--fill-color);\n",
              "    }\n",
              "    30% {\n",
              "      border-color: transparent;\n",
              "      border-left-color: var(--fill-color);\n",
              "      border-top-color: var(--fill-color);\n",
              "      border-right-color: var(--fill-color);\n",
              "    }\n",
              "    40% {\n",
              "      border-color: transparent;\n",
              "      border-right-color: var(--fill-color);\n",
              "      border-top-color: var(--fill-color);\n",
              "    }\n",
              "    60% {\n",
              "      border-color: transparent;\n",
              "      border-right-color: var(--fill-color);\n",
              "    }\n",
              "    80% {\n",
              "      border-color: transparent;\n",
              "      border-right-color: var(--fill-color);\n",
              "      border-bottom-color: var(--fill-color);\n",
              "    }\n",
              "    90% {\n",
              "      border-color: transparent;\n",
              "      border-bottom-color: var(--fill-color);\n",
              "    }\n",
              "  }\n",
              "</style>\n",
              "\n",
              "  <script>\n",
              "    async function quickchart(key) {\n",
              "      const quickchartButtonEl =\n",
              "        document.querySelector('#' + key + ' button');\n",
              "      quickchartButtonEl.disabled = true;  // To prevent multiple clicks.\n",
              "      quickchartButtonEl.classList.add('colab-df-spinner');\n",
              "      try {\n",
              "        const charts = await google.colab.kernel.invokeFunction(\n",
              "            'suggestCharts', [key], {});\n",
              "      } catch (error) {\n",
              "        console.error('Error during call to suggestCharts:', error);\n",
              "      }\n",
              "      quickchartButtonEl.classList.remove('colab-df-spinner');\n",
              "      quickchartButtonEl.classList.add('colab-df-quickchart-complete');\n",
              "    }\n",
              "    (() => {\n",
              "      let quickchartButtonEl =\n",
              "        document.querySelector('#df-5de78ec3-95a1-49b6-84c0-4a33e180e0b1 button');\n",
              "      quickchartButtonEl.style.display =\n",
              "        google.colab.kernel.accessAllowed ? 'block' : 'none';\n",
              "    })();\n",
              "  </script>\n",
              "</div>\n",
              "\n",
              "  <div id=\"id_891aa172-8353-431e-8d5b-547caaa1d9ae\">\n",
              "    <style>\n",
              "      .colab-df-generate {\n",
              "        background-color: #E8F0FE;\n",
              "        border: none;\n",
              "        border-radius: 50%;\n",
              "        cursor: pointer;\n",
              "        display: none;\n",
              "        fill: #1967D2;\n",
              "        height: 32px;\n",
              "        padding: 0 0 0 0;\n",
              "        width: 32px;\n",
              "      }\n",
              "\n",
              "      .colab-df-generate:hover {\n",
              "        background-color: #E2EBFA;\n",
              "        box-shadow: 0px 1px 2px rgba(60, 64, 67, 0.3), 0px 1px 3px 1px rgba(60, 64, 67, 0.15);\n",
              "        fill: #174EA6;\n",
              "      }\n",
              "\n",
              "      [theme=dark] .colab-df-generate {\n",
              "        background-color: #3B4455;\n",
              "        fill: #D2E3FC;\n",
              "      }\n",
              "\n",
              "      [theme=dark] .colab-df-generate:hover {\n",
              "        background-color: #434B5C;\n",
              "        box-shadow: 0px 1px 3px 1px rgba(0, 0, 0, 0.15);\n",
              "        filter: drop-shadow(0px 1px 2px rgba(0, 0, 0, 0.3));\n",
              "        fill: #FFFFFF;\n",
              "      }\n",
              "    </style>\n",
              "    <button class=\"colab-df-generate\" onclick=\"generateWithVariable('base')\"\n",
              "            title=\"Generate code using this dataframe.\"\n",
              "            style=\"display:none;\">\n",
              "\n",
              "  <svg xmlns=\"http://www.w3.org/2000/svg\" height=\"24px\"viewBox=\"0 0 24 24\"\n",
              "       width=\"24px\">\n",
              "    <path d=\"M7,19H8.4L18.45,9,17,7.55,7,17.6ZM5,21V16.75L18.45,3.32a2,2,0,0,1,2.83,0l1.4,1.43a1.91,1.91,0,0,1,.58,1.4,1.91,1.91,0,0,1-.58,1.4L9.25,21ZM18.45,9,17,7.55Zm-12,3A5.31,5.31,0,0,0,4.9,8.1,5.31,5.31,0,0,0,1,6.5,5.31,5.31,0,0,0,4.9,4.9,5.31,5.31,0,0,0,6.5,1,5.31,5.31,0,0,0,8.1,4.9,5.31,5.31,0,0,0,12,6.5,5.46,5.46,0,0,0,6.5,12Z\"/>\n",
              "  </svg>\n",
              "    </button>\n",
              "    <script>\n",
              "      (() => {\n",
              "      const buttonEl =\n",
              "        document.querySelector('#id_891aa172-8353-431e-8d5b-547caaa1d9ae button.colab-df-generate');\n",
              "      buttonEl.style.display =\n",
              "        google.colab.kernel.accessAllowed ? 'block' : 'none';\n",
              "\n",
              "      buttonEl.onclick = () => {\n",
              "        google.colab.notebook.generateWithVariable('base');\n",
              "      }\n",
              "      })();\n",
              "    </script>\n",
              "  </div>\n",
              "\n",
              "    </div>\n",
              "  </div>\n"
            ],
            "application/vnd.google.colaboratory.intrinsic+json": {
              "type": "dataframe",
              "variable_name": "base",
              "summary": "{\n  \"name\": \"base\",\n  \"rows\": 1000,\n  \"fields\": [\n    {\n      \"column\": \"User ID\",\n      \"properties\": {\n        \"dtype\": \"number\",\n        \"std\": 288,\n        \"min\": 1,\n        \"max\": 1000,\n        \"num_unique_values\": 1000,\n        \"samples\": [\n          176,\n          448,\n          391\n        ],\n        \"semantic_type\": \"\",\n        \"description\": \"\"\n      }\n    },\n    {\n      \"column\": \"Gender\",\n      \"properties\": {\n        \"dtype\": \"category\",\n        \"num_unique_values\": 2,\n        \"samples\": [\n          \"Female\",\n          \"Male\"\n        ],\n        \"semantic_type\": \"\",\n        \"description\": \"\"\n      }\n    },\n    {\n      \"column\": \"Age\",\n      \"properties\": {\n        \"dtype\": \"number\",\n        \"std\": 10,\n        \"min\": 18,\n        \"max\": 63,\n        \"num_unique_values\": 46,\n        \"samples\": [\n          18,\n          28\n        ],\n        \"semantic_type\": \"\",\n        \"description\": \"\"\n      }\n    },\n    {\n      \"column\": \"AnnualSalary\",\n      \"properties\": {\n        \"dtype\": \"number\",\n        \"std\": 34488,\n        \"min\": 15000,\n        \"max\": 152500,\n        \"num_unique_values\": 247,\n        \"samples\": [\n          113500,\n          132500\n        ],\n        \"semantic_type\": \"\",\n        \"description\": \"\"\n      }\n    },\n    {\n      \"column\": \"Purchased\",\n      \"properties\": {\n        \"dtype\": \"number\",\n        \"std\": 0,\n        \"min\": 0,\n        \"max\": 1,\n        \"num_unique_values\": 2,\n        \"samples\": [\n          1,\n          0\n        ],\n        \"semantic_type\": \"\",\n        \"description\": \"\"\n      }\n    }\n  ]\n}"
            }
          },
          "metadata": {},
          "execution_count": 3
        }
      ],
      "source": [
        "base"
      ]
    },
    {
      "cell_type": "markdown",
      "source": [
        "Nossas colunas são:\n",
        "\n",
        "**User ID** - Id do cliente cadastrado\n",
        "\n",
        "**Gender** - Genero do cliente\n",
        "\n",
        "**Age** - Idade do Cliente\n",
        "\n",
        "**AnnualSalary** - Salário Anual\n",
        "\n",
        "**Purchased** - Informação se o cliente comprou ou não carros na nossa loja."
      ],
      "metadata": {
        "id": "89xVkVutIKia"
      }
    },
    {
      "cell_type": "markdown",
      "source": [
        "Podemos notar que como estamos falando de uma base nova, teremos que realizar alguns passos de tratamento de dados, essa base pode conter dados nuloss, temos colunas categóricas, não está separada em treino e teste e nem X e Y.\n",
        "Vamos brevemente realizar algumas verificações."
      ],
      "metadata": {
        "id": "HwvcBHqmIe2u"
      }
    },
    {
      "cell_type": "code",
      "source": [
        "# verificando tipos de dados e represença de nulos\n",
        "base.info()"
      ],
      "metadata": {
        "colab": {
          "base_uri": "https://localhost:8080/"
        },
        "id": "fDCpJNERJNwm",
        "outputId": "88df0bf0-fcda-4099-d166-2d4e15dc3767"
      },
      "execution_count": null,
      "outputs": [
        {
          "output_type": "stream",
          "name": "stdout",
          "text": [
            "<class 'pandas.core.frame.DataFrame'>\n",
            "RangeIndex: 1000 entries, 0 to 999\n",
            "Data columns (total 5 columns):\n",
            " #   Column        Non-Null Count  Dtype \n",
            "---  ------        --------------  ----- \n",
            " 0   User ID       1000 non-null   int64 \n",
            " 1   Gender        1000 non-null   object\n",
            " 2   Age           1000 non-null   int64 \n",
            " 3   AnnualSalary  1000 non-null   int64 \n",
            " 4   Purchased     1000 non-null   int64 \n",
            "dtypes: int64(4), object(1)\n",
            "memory usage: 39.2+ KB\n"
          ]
        }
      ]
    },
    {
      "cell_type": "code",
      "source": [
        "# dropando a coluna de id que não necessitaremoss\n",
        "base.drop(columns=['User ID'], inplace=True)"
      ],
      "metadata": {
        "id": "I8s4qW6OI8st"
      },
      "execution_count": null,
      "outputs": []
    },
    {
      "cell_type": "code",
      "source": [
        "# verificando se na coluna categorica (gender) temos algum valor escrito errado\n",
        "base['Gender'].unique()"
      ],
      "metadata": {
        "colab": {
          "base_uri": "https://localhost:8080/"
        },
        "id": "9QOb36E-JdBv",
        "outputId": "7ef47604-1343-4477-87e3-e78593ad8d5d"
      },
      "execution_count": null,
      "outputs": [
        {
          "output_type": "execute_result",
          "data": {
            "text/plain": [
              "array(['Male', 'Female'], dtype=object)"
            ]
          },
          "metadata": {},
          "execution_count": 6
        }
      ]
    },
    {
      "cell_type": "code",
      "source": [
        "base.describe()"
      ],
      "metadata": {
        "colab": {
          "base_uri": "https://localhost:8080/",
          "height": 300
        },
        "id": "WgN8d02MJr3L",
        "outputId": "0ec359a1-074f-48e5-d0b7-06b2949c0f59"
      },
      "execution_count": null,
      "outputs": [
        {
          "output_type": "execute_result",
          "data": {
            "text/plain": [
              "               Age   AnnualSalary    Purchased\n",
              "count  1000.000000    1000.000000  1000.000000\n",
              "mean     40.106000   72689.000000     0.402000\n",
              "std      10.707073   34488.341867     0.490547\n",
              "min      18.000000   15000.000000     0.000000\n",
              "25%      32.000000   46375.000000     0.000000\n",
              "50%      40.000000   72000.000000     0.000000\n",
              "75%      48.000000   90000.000000     1.000000\n",
              "max      63.000000  152500.000000     1.000000"
            ],
            "text/html": [
              "\n",
              "  <div id=\"df-5a87b2ce-8e09-49cb-acae-f480dee2b7cb\" class=\"colab-df-container\">\n",
              "    <div>\n",
              "<style scoped>\n",
              "    .dataframe tbody tr th:only-of-type {\n",
              "        vertical-align: middle;\n",
              "    }\n",
              "\n",
              "    .dataframe tbody tr th {\n",
              "        vertical-align: top;\n",
              "    }\n",
              "\n",
              "    .dataframe thead th {\n",
              "        text-align: right;\n",
              "    }\n",
              "</style>\n",
              "<table border=\"1\" class=\"dataframe\">\n",
              "  <thead>\n",
              "    <tr style=\"text-align: right;\">\n",
              "      <th></th>\n",
              "      <th>Age</th>\n",
              "      <th>AnnualSalary</th>\n",
              "      <th>Purchased</th>\n",
              "    </tr>\n",
              "  </thead>\n",
              "  <tbody>\n",
              "    <tr>\n",
              "      <th>count</th>\n",
              "      <td>1000.000000</td>\n",
              "      <td>1000.000000</td>\n",
              "      <td>1000.000000</td>\n",
              "    </tr>\n",
              "    <tr>\n",
              "      <th>mean</th>\n",
              "      <td>40.106000</td>\n",
              "      <td>72689.000000</td>\n",
              "      <td>0.402000</td>\n",
              "    </tr>\n",
              "    <tr>\n",
              "      <th>std</th>\n",
              "      <td>10.707073</td>\n",
              "      <td>34488.341867</td>\n",
              "      <td>0.490547</td>\n",
              "    </tr>\n",
              "    <tr>\n",
              "      <th>min</th>\n",
              "      <td>18.000000</td>\n",
              "      <td>15000.000000</td>\n",
              "      <td>0.000000</td>\n",
              "    </tr>\n",
              "    <tr>\n",
              "      <th>25%</th>\n",
              "      <td>32.000000</td>\n",
              "      <td>46375.000000</td>\n",
              "      <td>0.000000</td>\n",
              "    </tr>\n",
              "    <tr>\n",
              "      <th>50%</th>\n",
              "      <td>40.000000</td>\n",
              "      <td>72000.000000</td>\n",
              "      <td>0.000000</td>\n",
              "    </tr>\n",
              "    <tr>\n",
              "      <th>75%</th>\n",
              "      <td>48.000000</td>\n",
              "      <td>90000.000000</td>\n",
              "      <td>1.000000</td>\n",
              "    </tr>\n",
              "    <tr>\n",
              "      <th>max</th>\n",
              "      <td>63.000000</td>\n",
              "      <td>152500.000000</td>\n",
              "      <td>1.000000</td>\n",
              "    </tr>\n",
              "  </tbody>\n",
              "</table>\n",
              "</div>\n",
              "    <div class=\"colab-df-buttons\">\n",
              "\n",
              "  <div class=\"colab-df-container\">\n",
              "    <button class=\"colab-df-convert\" onclick=\"convertToInteractive('df-5a87b2ce-8e09-49cb-acae-f480dee2b7cb')\"\n",
              "            title=\"Convert this dataframe to an interactive table.\"\n",
              "            style=\"display:none;\">\n",
              "\n",
              "  <svg xmlns=\"http://www.w3.org/2000/svg\" height=\"24px\" viewBox=\"0 -960 960 960\">\n",
              "    <path d=\"M120-120v-720h720v720H120Zm60-500h600v-160H180v160Zm220 220h160v-160H400v160Zm0 220h160v-160H400v160ZM180-400h160v-160H180v160Zm440 0h160v-160H620v160ZM180-180h160v-160H180v160Zm440 0h160v-160H620v160Z\"/>\n",
              "  </svg>\n",
              "    </button>\n",
              "\n",
              "  <style>\n",
              "    .colab-df-container {\n",
              "      display:flex;\n",
              "      gap: 12px;\n",
              "    }\n",
              "\n",
              "    .colab-df-convert {\n",
              "      background-color: #E8F0FE;\n",
              "      border: none;\n",
              "      border-radius: 50%;\n",
              "      cursor: pointer;\n",
              "      display: none;\n",
              "      fill: #1967D2;\n",
              "      height: 32px;\n",
              "      padding: 0 0 0 0;\n",
              "      width: 32px;\n",
              "    }\n",
              "\n",
              "    .colab-df-convert:hover {\n",
              "      background-color: #E2EBFA;\n",
              "      box-shadow: 0px 1px 2px rgba(60, 64, 67, 0.3), 0px 1px 3px 1px rgba(60, 64, 67, 0.15);\n",
              "      fill: #174EA6;\n",
              "    }\n",
              "\n",
              "    .colab-df-buttons div {\n",
              "      margin-bottom: 4px;\n",
              "    }\n",
              "\n",
              "    [theme=dark] .colab-df-convert {\n",
              "      background-color: #3B4455;\n",
              "      fill: #D2E3FC;\n",
              "    }\n",
              "\n",
              "    [theme=dark] .colab-df-convert:hover {\n",
              "      background-color: #434B5C;\n",
              "      box-shadow: 0px 1px 3px 1px rgba(0, 0, 0, 0.15);\n",
              "      filter: drop-shadow(0px 1px 2px rgba(0, 0, 0, 0.3));\n",
              "      fill: #FFFFFF;\n",
              "    }\n",
              "  </style>\n",
              "\n",
              "    <script>\n",
              "      const buttonEl =\n",
              "        document.querySelector('#df-5a87b2ce-8e09-49cb-acae-f480dee2b7cb button.colab-df-convert');\n",
              "      buttonEl.style.display =\n",
              "        google.colab.kernel.accessAllowed ? 'block' : 'none';\n",
              "\n",
              "      async function convertToInteractive(key) {\n",
              "        const element = document.querySelector('#df-5a87b2ce-8e09-49cb-acae-f480dee2b7cb');\n",
              "        const dataTable =\n",
              "          await google.colab.kernel.invokeFunction('convertToInteractive',\n",
              "                                                    [key], {});\n",
              "        if (!dataTable) return;\n",
              "\n",
              "        const docLinkHtml = 'Like what you see? Visit the ' +\n",
              "          '<a target=\"_blank\" href=https://colab.research.google.com/notebooks/data_table.ipynb>data table notebook</a>'\n",
              "          + ' to learn more about interactive tables.';\n",
              "        element.innerHTML = '';\n",
              "        dataTable['output_type'] = 'display_data';\n",
              "        await google.colab.output.renderOutput(dataTable, element);\n",
              "        const docLink = document.createElement('div');\n",
              "        docLink.innerHTML = docLinkHtml;\n",
              "        element.appendChild(docLink);\n",
              "      }\n",
              "    </script>\n",
              "  </div>\n",
              "\n",
              "\n",
              "<div id=\"df-21e5b30b-5a6f-4bd1-acff-74797941658d\">\n",
              "  <button class=\"colab-df-quickchart\" onclick=\"quickchart('df-21e5b30b-5a6f-4bd1-acff-74797941658d')\"\n",
              "            title=\"Suggest charts\"\n",
              "            style=\"display:none;\">\n",
              "\n",
              "<svg xmlns=\"http://www.w3.org/2000/svg\" height=\"24px\"viewBox=\"0 0 24 24\"\n",
              "     width=\"24px\">\n",
              "    <g>\n",
              "        <path d=\"M19 3H5c-1.1 0-2 .9-2 2v14c0 1.1.9 2 2 2h14c1.1 0 2-.9 2-2V5c0-1.1-.9-2-2-2zM9 17H7v-7h2v7zm4 0h-2V7h2v10zm4 0h-2v-4h2v4z\"/>\n",
              "    </g>\n",
              "</svg>\n",
              "  </button>\n",
              "\n",
              "<style>\n",
              "  .colab-df-quickchart {\n",
              "      --bg-color: #E8F0FE;\n",
              "      --fill-color: #1967D2;\n",
              "      --hover-bg-color: #E2EBFA;\n",
              "      --hover-fill-color: #174EA6;\n",
              "      --disabled-fill-color: #AAA;\n",
              "      --disabled-bg-color: #DDD;\n",
              "  }\n",
              "\n",
              "  [theme=dark] .colab-df-quickchart {\n",
              "      --bg-color: #3B4455;\n",
              "      --fill-color: #D2E3FC;\n",
              "      --hover-bg-color: #434B5C;\n",
              "      --hover-fill-color: #FFFFFF;\n",
              "      --disabled-bg-color: #3B4455;\n",
              "      --disabled-fill-color: #666;\n",
              "  }\n",
              "\n",
              "  .colab-df-quickchart {\n",
              "    background-color: var(--bg-color);\n",
              "    border: none;\n",
              "    border-radius: 50%;\n",
              "    cursor: pointer;\n",
              "    display: none;\n",
              "    fill: var(--fill-color);\n",
              "    height: 32px;\n",
              "    padding: 0;\n",
              "    width: 32px;\n",
              "  }\n",
              "\n",
              "  .colab-df-quickchart:hover {\n",
              "    background-color: var(--hover-bg-color);\n",
              "    box-shadow: 0 1px 2px rgba(60, 64, 67, 0.3), 0 1px 3px 1px rgba(60, 64, 67, 0.15);\n",
              "    fill: var(--button-hover-fill-color);\n",
              "  }\n",
              "\n",
              "  .colab-df-quickchart-complete:disabled,\n",
              "  .colab-df-quickchart-complete:disabled:hover {\n",
              "    background-color: var(--disabled-bg-color);\n",
              "    fill: var(--disabled-fill-color);\n",
              "    box-shadow: none;\n",
              "  }\n",
              "\n",
              "  .colab-df-spinner {\n",
              "    border: 2px solid var(--fill-color);\n",
              "    border-color: transparent;\n",
              "    border-bottom-color: var(--fill-color);\n",
              "    animation:\n",
              "      spin 1s steps(1) infinite;\n",
              "  }\n",
              "\n",
              "  @keyframes spin {\n",
              "    0% {\n",
              "      border-color: transparent;\n",
              "      border-bottom-color: var(--fill-color);\n",
              "      border-left-color: var(--fill-color);\n",
              "    }\n",
              "    20% {\n",
              "      border-color: transparent;\n",
              "      border-left-color: var(--fill-color);\n",
              "      border-top-color: var(--fill-color);\n",
              "    }\n",
              "    30% {\n",
              "      border-color: transparent;\n",
              "      border-left-color: var(--fill-color);\n",
              "      border-top-color: var(--fill-color);\n",
              "      border-right-color: var(--fill-color);\n",
              "    }\n",
              "    40% {\n",
              "      border-color: transparent;\n",
              "      border-right-color: var(--fill-color);\n",
              "      border-top-color: var(--fill-color);\n",
              "    }\n",
              "    60% {\n",
              "      border-color: transparent;\n",
              "      border-right-color: var(--fill-color);\n",
              "    }\n",
              "    80% {\n",
              "      border-color: transparent;\n",
              "      border-right-color: var(--fill-color);\n",
              "      border-bottom-color: var(--fill-color);\n",
              "    }\n",
              "    90% {\n",
              "      border-color: transparent;\n",
              "      border-bottom-color: var(--fill-color);\n",
              "    }\n",
              "  }\n",
              "</style>\n",
              "\n",
              "  <script>\n",
              "    async function quickchart(key) {\n",
              "      const quickchartButtonEl =\n",
              "        document.querySelector('#' + key + ' button');\n",
              "      quickchartButtonEl.disabled = true;  // To prevent multiple clicks.\n",
              "      quickchartButtonEl.classList.add('colab-df-spinner');\n",
              "      try {\n",
              "        const charts = await google.colab.kernel.invokeFunction(\n",
              "            'suggestCharts', [key], {});\n",
              "      } catch (error) {\n",
              "        console.error('Error during call to suggestCharts:', error);\n",
              "      }\n",
              "      quickchartButtonEl.classList.remove('colab-df-spinner');\n",
              "      quickchartButtonEl.classList.add('colab-df-quickchart-complete');\n",
              "    }\n",
              "    (() => {\n",
              "      let quickchartButtonEl =\n",
              "        document.querySelector('#df-21e5b30b-5a6f-4bd1-acff-74797941658d button');\n",
              "      quickchartButtonEl.style.display =\n",
              "        google.colab.kernel.accessAllowed ? 'block' : 'none';\n",
              "    })();\n",
              "  </script>\n",
              "</div>\n",
              "\n",
              "    </div>\n",
              "  </div>\n"
            ],
            "application/vnd.google.colaboratory.intrinsic+json": {
              "type": "dataframe",
              "summary": "{\n  \"name\": \"base\",\n  \"rows\": 8,\n  \"fields\": [\n    {\n      \"column\": \"Age\",\n      \"properties\": {\n        \"dtype\": \"number\",\n        \"std\": 341.22984221455494,\n        \"min\": 10.707072681429104,\n        \"max\": 1000.0,\n        \"num_unique_values\": 8,\n        \"samples\": [\n          40.106,\n          40.0,\n          1000.0\n        ],\n        \"semantic_type\": \"\",\n        \"description\": \"\"\n      }\n    },\n    {\n      \"column\": \"AnnualSalary\",\n      \"properties\": {\n        \"dtype\": \"number\",\n        \"std\": 47960.83724155572,\n        \"min\": 1000.0,\n        \"max\": 152500.0,\n        \"num_unique_values\": 8,\n        \"samples\": [\n          72689.0,\n          72000.0,\n          1000.0\n        ],\n        \"semantic_type\": \"\",\n        \"description\": \"\"\n      }\n    },\n    {\n      \"column\": \"Purchased\",\n      \"properties\": {\n        \"dtype\": \"number\",\n        \"std\": 353.4075388407271,\n        \"min\": 0.0,\n        \"max\": 1000.0,\n        \"num_unique_values\": 5,\n        \"samples\": [\n          0.402,\n          1.0,\n          0.4905472827736758\n        ],\n        \"semantic_type\": \"\",\n        \"description\": \"\"\n      }\n    }\n  ]\n}"
            }
          },
          "metadata": {},
          "execution_count": 7
        }
      ]
    },
    {
      "cell_type": "markdown",
      "source": [
        "Não parecemos ter uma forte presença de outliers, então seguiremos com o pré processamento."
      ],
      "metadata": {
        "id": "AMCq8gNdKPdC"
      }
    },
    {
      "cell_type": "markdown",
      "source": [
        "# Análise das nossas variáveis:"
      ],
      "metadata": {
        "id": "XaARY8rlKxrp"
      }
    },
    {
      "cell_type": "code",
      "source": [
        "# breve analise bivariada para conhecermos melhor nossos dados\n",
        "contagem = pd.crosstab(base['Gender'], base['Purchased'])\n",
        "contagem.plot(kind='bar', stacked=True)\n",
        "plt.title('Distribuição de Compras por Gênero')\n",
        "plt.xlabel('Gender')\n",
        "plt.ylabel('Contagem')\n",
        "plt.legend(title='Purchased', labels=['Não Comprou', 'Comprou'])\n",
        "plt.show()"
      ],
      "metadata": {
        "colab": {
          "base_uri": "https://localhost:8080/",
          "height": 508
        },
        "id": "c7Oxx8IEJ5VG",
        "outputId": "63986930-9a2c-46a8-a2c3-1aae1fc36f62"
      },
      "execution_count": null,
      "outputs": [
        {
          "output_type": "display_data",
          "data": {
            "text/plain": [
              "<Figure size 640x480 with 1 Axes>"
            ],
            "image/png": "[encoded data removed]"
          },
          "metadata": {}
        }
      ]
    },
    {
      "cell_type": "markdown",
      "source": [
        "Maior parte dos clientes que deixaram cadastros são mulheres, assim como os clientesss que compraram."
      ],
      "metadata": {
        "id": "tIar9seGKkYV"
      }
    },
    {
      "cell_type": "code",
      "source": [
        "media_annual_salary = base.groupby('Purchased')['AnnualSalary'].mean()\n",
        "print(media_annual_salary)"
      ],
      "metadata": {
        "colab": {
          "base_uri": "https://localhost:8080/"
        },
        "id": "Kssx6YjhKfGh",
        "outputId": "03bb3164-bc8e-4a3a-817b-223882200802"
      },
      "execution_count": null,
      "outputs": [
        {
          "output_type": "stream",
          "name": "stdout",
          "text": [
            "Purchased\n",
            "0    62373.745819\n",
            "1    88033.582090\n",
            "Name: AnnualSalary, dtype: float64\n"
          ]
        }
      ]
    },
    {
      "cell_type": "markdown",
      "source": [
        "Como esperado os clientes que compraram carross tem um salário anual relativamente maior."
      ],
      "metadata": {
        "id": "-eLv9wqlKqHK"
      }
    },
    {
      "cell_type": "code",
      "source": [
        "media_age = base.groupby('Purchased')['Age'].mean()\n",
        "print(media_age)"
      ],
      "metadata": {
        "colab": {
          "base_uri": "https://localhost:8080/"
        },
        "id": "nF86oDaYK2nW",
        "outputId": "7b0dc1f8-31cd-4127-db19-105ff5422d1d"
      },
      "execution_count": null,
      "outputs": [
        {
          "output_type": "stream",
          "name": "stdout",
          "text": [
            "Purchased\n",
            "0    34.700669\n",
            "1    48.146766\n",
            "Name: Age, dtype: float64\n"
          ]
        }
      ]
    },
    {
      "cell_type": "markdown",
      "source": [
        "Assim como clientes que compram os veiculos tendem a ter uma idade superior!"
      ],
      "metadata": {
        "id": "2MfZ_ivzK7fC"
      }
    },
    {
      "cell_type": "markdown",
      "source": [
        "Para visualizarmos a matriz de correleção vamos transformar a variável gender (gênero) em variável numérica, pois está categórica."
      ],
      "metadata": {
        "id": "3VGXoJDfLZsN"
      }
    },
    {
      "cell_type": "code",
      "source": [
        "# Substituir os valores da coluna 'GENDER' por números específicos utilizando o replace\n",
        "gender_mapping = {'Male': 0, 'Female': 1}\n",
        "base['Gender'] = base['Gender'].replace(gender_mapping)"
      ],
      "metadata": {
        "id": "J9XLRvDoMJqJ"
      },
      "execution_count": null,
      "outputs": []
    },
    {
      "cell_type": "code",
      "source": [
        "base"
      ],
      "metadata": {
        "colab": {
          "base_uri": "https://localhost:8080/",
          "height": 423
        },
        "id": "L75_l8XwMUcx",
        "outputId": "fb87e44e-372c-43b2-8283-a9c88cf70b57"
      },
      "execution_count": null,
      "outputs": [
        {
          "output_type": "execute_result",
          "data": {
            "text/plain": [
              "     Gender  Age  AnnualSalary  Purchased\n",
              "0         0   35         20000          0\n",
              "1         0   40         43500          0\n",
              "2         0   49         74000          0\n",
              "3         0   40        107500          1\n",
              "4         0   25         79000          0\n",
              "..      ...  ...           ...        ...\n",
              "995       0   38         59000          0\n",
              "996       1   47         23500          0\n",
              "997       1   28        138500          1\n",
              "998       1   48        134000          1\n",
              "999       1   44         73500          0\n",
              "\n",
              "[1000 rows x 4 columns]"
            ],
            "text/html": [
              "\n",
              "  <div id=\"df-a0659346-5545-4783-bc04-7787b1fd6e42\" class=\"colab-df-container\">\n",
              "    <div>\n",
              "<style scoped>\n",
              "    .dataframe tbody tr th:only-of-type {\n",
              "        vertical-align: middle;\n",
              "    }\n",
              "\n",
              "    .dataframe tbody tr th {\n",
              "        vertical-align: top;\n",
              "    }\n",
              "\n",
              "    .dataframe thead th {\n",
              "        text-align: right;\n",
              "    }\n",
              "</style>\n",
              "<table border=\"1\" class=\"dataframe\">\n",
              "  <thead>\n",
              "    <tr style=\"text-align: right;\">\n",
              "      <th></th>\n",
              "      <th>Gender</th>\n",
              "      <th>Age</th>\n",
              "      <th>AnnualSalary</th>\n",
              "      <th>Purchased</th>\n",
              "    </tr>\n",
              "  </thead>\n",
              "  <tbody>\n",
              "    <tr>\n",
              "      <th>0</th>\n",
              "      <td>0</td>\n",
              "      <td>35</td>\n",
              "      <td>20000</td>\n",
              "      <td>0</td>\n",
              "    </tr>\n",
              "    <tr>\n",
              "      <th>1</th>\n",
              "      <td>0</td>\n",
              "      <td>40</td>\n",
              "      <td>43500</td>\n",
              "      <td>0</td>\n",
              "    </tr>\n",
              "    <tr>\n",
              "      <th>2</th>\n",
              "      <td>0</td>\n",
              "      <td>49</td>\n",
              "      <td>74000</td>\n",
              "      <td>0</td>\n",
              "    </tr>\n",
              "    <tr>\n",
              "      <th>3</th>\n",
              "      <td>0</td>\n",
              "      <td>40</td>\n",
              "      <td>107500</td>\n",
              "      <td>1</td>\n",
              "    </tr>\n",
              "    <tr>\n",
              "      <th>4</th>\n",
              "      <td>0</td>\n",
              "      <td>25</td>\n",
              "      <td>79000</td>\n",
              "      <td>0</td>\n",
              "    </tr>\n",
              "    <tr>\n",
              "      <th>...</th>\n",
              "      <td>...</td>\n",
              "      <td>...</td>\n",
              "      <td>...</td>\n",
              "      <td>...</td>\n",
              "    </tr>\n",
              "    <tr>\n",
              "      <th>995</th>\n",
              "      <td>0</td>\n",
              "      <td>38</td>\n",
              "      <td>59000</td>\n",
              "      <td>0</td>\n",
              "    </tr>\n",
              "    <tr>\n",
              "      <th>996</th>\n",
              "      <td>1</td>\n",
              "      <td>47</td>\n",
              "      <td>23500</td>\n",
              "      <td>0</td>\n",
              "    </tr>\n",
              "    <tr>\n",
              "      <th>997</th>\n",
              "      <td>1</td>\n",
              "      <td>28</td>\n",
              "      <td>138500</td>\n",
              "      <td>1</td>\n",
              "    </tr>\n",
              "    <tr>\n",
              "      <th>998</th>\n",
              "      <td>1</td>\n",
              "      <td>48</td>\n",
              "      <td>134000</td>\n",
              "      <td>1</td>\n",
              "    </tr>\n",
              "    <tr>\n",
              "      <th>999</th>\n",
              "      <td>1</td>\n",
              "      <td>44</td>\n",
              "      <td>73500</td>\n",
              "      <td>0</td>\n",
              "    </tr>\n",
              "  </tbody>\n",
              "</table>\n",
              "<p>1000 rows × 4 columns</p>\n",
              "</div>\n",
              "    <div class=\"colab-df-buttons\">\n",
              "\n",
              "  <div class=\"colab-df-container\">\n",
              "    <button class=\"colab-df-convert\" onclick=\"convertToInteractive('df-a0659346-5545-4783-bc04-7787b1fd6e42')\"\n",
              "            title=\"Convert this dataframe to an interactive table.\"\n",
              "            style=\"display:none;\">\n",
              "\n",
              "  <svg xmlns=\"http://www.w3.org/2000/svg\" height=\"24px\" viewBox=\"0 -960 960 960\">\n",
              "    <path d=\"M120-120v-720h720v720H120Zm60-500h600v-160H180v160Zm220 220h160v-160H400v160Zm0 220h160v-160H400v160ZM180-400h160v-160H180v160Zm440 0h160v-160H620v160ZM180-180h160v-160H180v160Zm440 0h160v-160H620v160Z\"/>\n",
              "  </svg>\n",
              "    </button>\n",
              "\n",
              "  <style>\n",
              "    .colab-df-container {\n",
              "      display:flex;\n",
              "      gap: 12px;\n",
              "    }\n",
              "\n",
              "    .colab-df-convert {\n",
              "      background-color: #E8F0FE;\n",
              "      border: none;\n",
              "      border-radius: 50%;\n",
              "      cursor: pointer;\n",
              "      display: none;\n",
              "      fill: #1967D2;\n",
              "      height: 32px;\n",
              "      padding: 0 0 0 0;\n",
              "      width: 32px;\n",
              "    }\n",
              "\n",
              "    .colab-df-convert:hover {\n",
              "      background-color: #E2EBFA;\n",
              "      box-shadow: 0px 1px 2px rgba(60, 64, 67, 0.3), 0px 1px 3px 1px rgba(60, 64, 67, 0.15);\n",
              "      fill: #174EA6;\n",
              "    }\n",
              "\n",
              "    .colab-df-buttons div {\n",
              "      margin-bottom: 4px;\n",
              "    }\n",
              "\n",
              "    [theme=dark] .colab-df-convert {\n",
              "      background-color: #3B4455;\n",
              "      fill: #D2E3FC;\n",
              "    }\n",
              "\n",
              "    [theme=dark] .colab-df-convert:hover {\n",
              "      background-color: #434B5C;\n",
              "      box-shadow: 0px 1px 3px 1px rgba(0, 0, 0, 0.15);\n",
              "      filter: drop-shadow(0px 1px 2px rgba(0, 0, 0, 0.3));\n",
              "      fill: #FFFFFF;\n",
              "    }\n",
              "  </style>\n",
              "\n",
              "    <script>\n",
              "      const buttonEl =\n",
              "        document.querySelector('#df-a0659346-5545-4783-bc04-7787b1fd6e42 button.colab-df-convert');\n",
              "      buttonEl.style.display =\n",
              "        google.colab.kernel.accessAllowed ? 'block' : 'none';\n",
              "\n",
              "      async function convertToInteractive(key) {\n",
              "        const element = document.querySelector('#df-a0659346-5545-4783-bc04-7787b1fd6e42');\n",
              "        const dataTable =\n",
              "          await google.colab.kernel.invokeFunction('convertToInteractive',\n",
              "                                                    [key], {});\n",
              "        if (!dataTable) return;\n",
              "\n",
              "        const docLinkHtml = 'Like what you see? Visit the ' +\n",
              "          '<a target=\"_blank\" href=https://colab.research.google.com/notebooks/data_table.ipynb>data table notebook</a>'\n",
              "          + ' to learn more about interactive tables.';\n",
              "        element.innerHTML = '';\n",
              "        dataTable['output_type'] = 'display_data';\n",
              "        await google.colab.output.renderOutput(dataTable, element);\n",
              "        const docLink = document.createElement('div');\n",
              "        docLink.innerHTML = docLinkHtml;\n",
              "        element.appendChild(docLink);\n",
              "      }\n",
              "    </script>\n",
              "  </div>\n",
              "\n",
              "\n",
              "<div id=\"df-bc9320db-320d-421a-8574-80e096c152f8\">\n",
              "  <button class=\"colab-df-quickchart\" onclick=\"quickchart('df-bc9320db-320d-421a-8574-80e096c152f8')\"\n",
              "            title=\"Suggest charts\"\n",
              "            style=\"display:none;\">\n",
              "\n",
              "<svg xmlns=\"http://www.w3.org/2000/svg\" height=\"24px\"viewBox=\"0 0 24 24\"\n",
              "     width=\"24px\">\n",
              "    <g>\n",
              "        <path d=\"M19 3H5c-1.1 0-2 .9-2 2v14c0 1.1.9 2 2 2h14c1.1 0 2-.9 2-2V5c0-1.1-.9-2-2-2zM9 17H7v-7h2v7zm4 0h-2V7h2v10zm4 0h-2v-4h2v4z\"/>\n",
              "    </g>\n",
              "</svg>\n",
              "  </button>\n",
              "\n",
              "<style>\n",
              "  .colab-df-quickchart {\n",
              "      --bg-color: #E8F0FE;\n",
              "      --fill-color: #1967D2;\n",
              "      --hover-bg-color: #E2EBFA;\n",
              "      --hover-fill-color: #174EA6;\n",
              "      --disabled-fill-color: #AAA;\n",
              "      --disabled-bg-color: #DDD;\n",
              "  }\n",
              "\n",
              "  [theme=dark] .colab-df-quickchart {\n",
              "      --bg-color: #3B4455;\n",
              "      --fill-color: #D2E3FC;\n",
              "      --hover-bg-color: #434B5C;\n",
              "      --hover-fill-color: #FFFFFF;\n",
              "      --disabled-bg-color: #3B4455;\n",
              "      --disabled-fill-color: #666;\n",
              "  }\n",
              "\n",
              "  .colab-df-quickchart {\n",
              "    background-color: var(--bg-color);\n",
              "    border: none;\n",
              "    border-radius: 50%;\n",
              "    cursor: pointer;\n",
              "    display: none;\n",
              "    fill: var(--fill-color);\n",
              "    height: 32px;\n",
              "    padding: 0;\n",
              "    width: 32px;\n",
              "  }\n",
              "\n",
              "  .colab-df-quickchart:hover {\n",
              "    background-color: var(--hover-bg-color);\n",
              "    box-shadow: 0 1px 2px rgba(60, 64, 67, 0.3), 0 1px 3px 1px rgba(60, 64, 67, 0.15);\n",
              "    fill: var(--button-hover-fill-color);\n",
              "  }\n",
              "\n",
              "  .colab-df-quickchart-complete:disabled,\n",
              "  .colab-df-quickchart-complete:disabled:hover {\n",
              "    background-color: var(--disabled-bg-color);\n",
              "    fill: var(--disabled-fill-color);\n",
              "    box-shadow: none;\n",
              "  }\n",
              "\n",
              "  .colab-df-spinner {\n",
              "    border: 2px solid var(--fill-color);\n",
              "    border-color: transparent;\n",
              "    border-bottom-color: var(--fill-color);\n",
              "    animation:\n",
              "      spin 1s steps(1) infinite;\n",
              "  }\n",
              "\n",
              "  @keyframes spin {\n",
              "    0% {\n",
              "      border-color: transparent;\n",
              "      border-bottom-color: var(--fill-color);\n",
              "      border-left-color: var(--fill-color);\n",
              "    }\n",
              "    20% {\n",
              "      border-color: transparent;\n",
              "      border-left-color: var(--fill-color);\n",
              "      border-top-color: var(--fill-color);\n",
              "    }\n",
              "    30% {\n",
              "      border-color: transparent;\n",
              "      border-left-color: var(--fill-color);\n",
              "      border-top-color: var(--fill-color);\n",
              "      border-right-color: var(--fill-color);\n",
              "    }\n",
              "    40% {\n",
              "      border-color: transparent;\n",
              "      border-right-color: var(--fill-color);\n",
              "      border-top-color: var(--fill-color);\n",
              "    }\n",
              "    60% {\n",
              "      border-color: transparent;\n",
              "      border-right-color: var(--fill-color);\n",
              "    }\n",
              "    80% {\n",
              "      border-color: transparent;\n",
              "      border-right-color: var(--fill-color);\n",
              "      border-bottom-color: var(--fill-color);\n",
              "    }\n",
              "    90% {\n",
              "      border-color: transparent;\n",
              "      border-bottom-color: var(--fill-color);\n",
              "    }\n",
              "  }\n",
              "</style>\n",
              "\n",
              "  <script>\n",
              "    async function quickchart(key) {\n",
              "      const quickchartButtonEl =\n",
              "        document.querySelector('#' + key + ' button');\n",
              "      quickchartButtonEl.disabled = true;  // To prevent multiple clicks.\n",
              "      quickchartButtonEl.classList.add('colab-df-spinner');\n",
              "      try {\n",
              "        const charts = await google.colab.kernel.invokeFunction(\n",
              "            'suggestCharts', [key], {});\n",
              "      } catch (error) {\n",
              "        console.error('Error during call to suggestCharts:', error);\n",
              "      }\n",
              "      quickchartButtonEl.classList.remove('colab-df-spinner');\n",
              "      quickchartButtonEl.classList.add('colab-df-quickchart-complete');\n",
              "    }\n",
              "    (() => {\n",
              "      let quickchartButtonEl =\n",
              "        document.querySelector('#df-bc9320db-320d-421a-8574-80e096c152f8 button');\n",
              "      quickchartButtonEl.style.display =\n",
              "        google.colab.kernel.accessAllowed ? 'block' : 'none';\n",
              "    })();\n",
              "  </script>\n",
              "</div>\n",
              "\n",
              "  <div id=\"id_e8e728b9-dab9-44ec-8ea5-bbbd3e4cd32b\">\n",
              "    <style>\n",
              "      .colab-df-generate {\n",
              "        background-color: #E8F0FE;\n",
              "        border: none;\n",
              "        border-radius: 50%;\n",
              "        cursor: pointer;\n",
              "        display: none;\n",
              "        fill: #1967D2;\n",
              "        height: 32px;\n",
              "        padding: 0 0 0 0;\n",
              "        width: 32px;\n",
              "      }\n",
              "\n",
              "      .colab-df-generate:hover {\n",
              "        background-color: #E2EBFA;\n",
              "        box-shadow: 0px 1px 2px rgba(60, 64, 67, 0.3), 0px 1px 3px 1px rgba(60, 64, 67, 0.15);\n",
              "        fill: #174EA6;\n",
              "      }\n",
              "\n",
              "      [theme=dark] .colab-df-generate {\n",
              "        background-color: #3B4455;\n",
              "        fill: #D2E3FC;\n",
              "      }\n",
              "\n",
              "      [theme=dark] .colab-df-generate:hover {\n",
              "        background-color: #434B5C;\n",
              "        box-shadow: 0px 1px 3px 1px rgba(0, 0, 0, 0.15);\n",
              "        filter: drop-shadow(0px 1px 2px rgba(0, 0, 0, 0.3));\n",
              "        fill: #FFFFFF;\n",
              "      }\n",
              "    </style>\n",
              "    <button class=\"colab-df-generate\" onclick=\"generateWithVariable('base')\"\n",
              "            title=\"Generate code using this dataframe.\"\n",
              "            style=\"display:none;\">\n",
              "\n",
              "  <svg xmlns=\"http://www.w3.org/2000/svg\" height=\"24px\"viewBox=\"0 0 24 24\"\n",
              "       width=\"24px\">\n",
              "    <path d=\"M7,19H8.4L18.45,9,17,7.55,7,17.6ZM5,21V16.75L18.45,3.32a2,2,0,0,1,2.83,0l1.4,1.43a1.91,1.91,0,0,1,.58,1.4,1.91,1.91,0,0,1-.58,1.4L9.25,21ZM18.45,9,17,7.55Zm-12,3A5.31,5.31,0,0,0,4.9,8.1,5.31,5.31,0,0,0,1,6.5,5.31,5.31,0,0,0,4.9,4.9,5.31,5.31,0,0,0,6.5,1,5.31,5.31,0,0,0,8.1,4.9,5.31,5.31,0,0,0,12,6.5,5.46,5.46,0,0,0,6.5,12Z\"/>\n",
              "  </svg>\n",
              "    </button>\n",
              "    <script>\n",
              "      (() => {\n",
              "      const buttonEl =\n",
              "        document.querySelector('#id_e8e728b9-dab9-44ec-8ea5-bbbd3e4cd32b button.colab-df-generate');\n",
              "      buttonEl.style.display =\n",
              "        google.colab.kernel.accessAllowed ? 'block' : 'none';\n",
              "\n",
              "      buttonEl.onclick = () => {\n",
              "        google.colab.notebook.generateWithVariable('base');\n",
              "      }\n",
              "      })();\n",
              "    </script>\n",
              "  </div>\n",
              "\n",
              "    </div>\n",
              "  </div>\n"
            ],
            "application/vnd.google.colaboratory.intrinsic+json": {
              "type": "dataframe",
              "variable_name": "base",
              "summary": "{\n  \"name\": \"base\",\n  \"rows\": 1000,\n  \"fields\": [\n    {\n      \"column\": \"Gender\",\n      \"properties\": {\n        \"dtype\": \"number\",\n        \"std\": 0,\n        \"min\": 0,\n        \"max\": 1,\n        \"num_unique_values\": 2,\n        \"samples\": [\n          1,\n          0\n        ],\n        \"semantic_type\": \"\",\n        \"description\": \"\"\n      }\n    },\n    {\n      \"column\": \"Age\",\n      \"properties\": {\n        \"dtype\": \"number\",\n        \"std\": 10,\n        \"min\": 18,\n        \"max\": 63,\n        \"num_unique_values\": 46,\n        \"samples\": [\n          18,\n          28\n        ],\n        \"semantic_type\": \"\",\n        \"description\": \"\"\n      }\n    },\n    {\n      \"column\": \"AnnualSalary\",\n      \"properties\": {\n        \"dtype\": \"number\",\n        \"std\": 34488,\n        \"min\": 15000,\n        \"max\": 152500,\n        \"num_unique_values\": 247,\n        \"samples\": [\n          113500,\n          132500\n        ],\n        \"semantic_type\": \"\",\n        \"description\": \"\"\n      }\n    },\n    {\n      \"column\": \"Purchased\",\n      \"properties\": {\n        \"dtype\": \"number\",\n        \"std\": 0,\n        \"min\": 0,\n        \"max\": 1,\n        \"num_unique_values\": 2,\n        \"samples\": [\n          1,\n          0\n        ],\n        \"semantic_type\": \"\",\n        \"description\": \"\"\n      }\n    }\n  ]\n}"
            }
          },
          "metadata": {},
          "execution_count": 12
        }
      ]
    },
    {
      "cell_type": "code",
      "source": [
        "correlation_matrix = base.corr()\n",
        "\n",
        "# Plotando a matriz de correlação usando seaborn\n",
        "plt.figure(figsize=(10, 8))\n",
        "sns.heatmap(correlation_matrix, annot=True, cmap='coolwarm', vmin=-1, vmax=1)\n",
        "plt.title('Matriz de Correlação')\n",
        "plt.show()"
      ],
      "metadata": {
        "colab": {
          "base_uri": "https://localhost:8080/",
          "height": 699
        },
        "id": "5FRlVbGULMmM",
        "outputId": "62d30340-f695-4f38-b38f-e91f12bac87f"
      },
      "execution_count": null,
      "outputs": [
        {
          "output_type": "display_data",
          "data": {
            "text/plain": [
              "<Figure size 1000x800 with 2 Axes>"
            ],
            "image/png": "[encoded data removed]"
          },
          "metadata": {}
        }
      ]
    },
    {
      "cell_type": "markdown",
      "source": [
        "# Separando em X e Y:"
      ],
      "metadata": {
        "id": "19N0BgtSMmVx"
      }
    },
    {
      "cell_type": "code",
      "source": [
        "# Separando em X (variáveis de entrada) e Y (variável de saída)\n",
        "X = base.drop('Purchased', axis=1)  # X contém todas as colunas exceto 'Purchased'\n",
        "Y = base['Purchased']  # Y contém apenas a coluna 'Purchased'"
      ],
      "metadata": {
        "id": "0jvDquIsM12T"
      },
      "execution_count": null,
      "outputs": []
    },
    {
      "cell_type": "markdown",
      "source": [
        "# Verificando balanceamento do dados antes de separarmos em treino e teste:"
      ],
      "metadata": {
        "id": "fqlP1tcHM691"
      }
    },
    {
      "cell_type": "code",
      "source": [
        "base['Purchased'].value_counts()"
      ],
      "metadata": {
        "colab": {
          "base_uri": "https://localhost:8080/"
        },
        "id": "U42c7WIsNEAg",
        "outputId": "f2432b9c-24da-4d44-9ff4-8d4808e99316"
      },
      "execution_count": null,
      "outputs": [
        {
          "output_type": "execute_result",
          "data": {
            "text/plain": [
              "Purchased\n",
              "0    598\n",
              "1    402\n",
              "Name: count, dtype: int64"
            ]
          },
          "metadata": {},
          "execution_count": 15
        }
      ]
    },
    {
      "cell_type": "markdown",
      "source": [
        "# Separando base treino e teste:"
      ],
      "metadata": {
        "id": "8vGqc8AzNmof"
      }
    },
    {
      "cell_type": "code",
      "source": [
        "# Separar em base de treino e teste (usando 80% para treino e 20% para teste)\n",
        "X_train, X_test, Y_train, Y_test = train_test_split(X, Y, test_size=0.2, random_state=42)"
      ],
      "metadata": {
        "id": "uwglwsctNq_N"
      },
      "execution_count": null,
      "outputs": []
    },
    {
      "cell_type": "markdown",
      "source": [
        "# Padronizando Features"
      ],
      "metadata": {
        "id": "_H3eVZSVJXUy"
      }
    },
    {
      "cell_type": "markdown",
      "source": [
        "Há um motivo para a regressão logística ser mais sensível à escala das features em comparação com modelos baseados em árvores, como árvores de decisão.\n",
        "\n",
        "* A regressão logística é um modelo linear. Ela tenta encontrar um plano de separação (hiperplano) no espaço das features para separar as classes.\n",
        "\n",
        "* Como a regressão logística calcula um peso para cada feature, a escala das features pode afetar significativamente o treinamento. Features com valores maiores podem dominar a função de custo e os gradientes, levando a um modelo enviesado. Por isso, a padronização é importante para garantir que todas as features contribuam de forma equilibrada."
      ],
      "metadata": {
        "id": "DHJXS8X8MpJD"
      }
    },
    {
      "cell_type": "code",
      "source": [
        "from sklearn.preprocessing import StandardScaler\n",
        "\n",
        "# Inicializar StandardScaler\n",
        "sc = StandardScaler()\n",
        "\n",
        "# Ajustando e transformando os dados de treino\n",
        "X_train = sc.fit_transform(X_train)\n",
        "\n",
        "# Transformando os dados de teste usando os parâmetros aprendidos dos dados de treino\n",
        "X_test = sc.transform(X_test)"
      ],
      "metadata": {
        "id": "GA2RwzjJJWqW"
      },
      "execution_count": null,
      "outputs": []
    },
    {
      "cell_type": "markdown",
      "source": [
        "# Balanceamento dos dados:"
      ],
      "metadata": {
        "id": "i7yle9ZWPV8u"
      }
    },
    {
      "cell_type": "code",
      "source": [
        "# Balancear os dados de treinamento usando SMOTE\n",
        "smote = SMOTE(random_state=42)\n",
        "X_train_balanced, Y_train_balanced = smote.fit_resample(X_train, Y_train)"
      ],
      "metadata": {
        "id": "4y2EXl1PPYTQ"
      },
      "execution_count": null,
      "outputs": []
    },
    {
      "cell_type": "markdown",
      "source": [
        "Vamos verificar treino e teste:"
      ],
      "metadata": {
        "id": "4PbikCIlNwjN"
      }
    },
    {
      "cell_type": "code",
      "source": [
        "X_train_balanced"
      ],
      "metadata": {
        "colab": {
          "base_uri": "https://localhost:8080/"
        },
        "id": "HK-ogwnCNzUR",
        "outputId": "73faf20e-a0fa-4ab4-f3fb-129d954b7d56"
      },
      "execution_count": null,
      "outputs": [
        {
          "output_type": "execute_result",
          "data": {
            "text/plain": [
              "array([[ 0.96559161, -0.18027971,  2.15213703],\n",
              "       [ 0.96559161,  1.78258424, -1.40762568],\n",
              "       [-1.03563452, -0.46068884,  0.51696148],\n",
              "       ...,\n",
              "       [ 0.96559161,  1.25260948,  0.50914844],\n",
              "       [-1.03563452,  1.06511164, -1.24376069],\n",
              "       [-1.03563452, -0.42558321,  1.21705171]])"
            ]
          },
          "metadata": {},
          "execution_count": 19
        }
      ]
    },
    {
      "cell_type": "code",
      "source": [
        "Y_train_balanced"
      ],
      "metadata": {
        "colab": {
          "base_uri": "https://localhost:8080/"
        },
        "id": "_HK-FiiAN0EP",
        "outputId": "29745ab7-06ed-4d67-b8dd-695981be4e47"
      },
      "execution_count": null,
      "outputs": [
        {
          "output_type": "execute_result",
          "data": {
            "text/plain": [
              "0      1\n",
              "1      1\n",
              "2      1\n",
              "3      0\n",
              "4      1\n",
              "      ..\n",
              "967    1\n",
              "968    1\n",
              "969    1\n",
              "970    1\n",
              "971    1\n",
              "Name: Purchased, Length: 972, dtype: int64"
            ]
          },
          "metadata": {},
          "execution_count": 20
        }
      ]
    },
    {
      "cell_type": "code",
      "source": [
        "X_test"
      ],
      "metadata": {
        "colab": {
          "base_uri": "https://localhost:8080/"
        },
        "id": "d0fIFfr2N2bc",
        "outputId": "26d44d34-35a7-4646-d531-5601df7d3507"
      },
      "execution_count": null,
      "outputs": [
        {
          "output_type": "execute_result",
          "data": {
            "text/plain": [
              "array([[-1.03563452,  0.10012943,  0.01049117],\n",
              "       [-1.03563452,  1.78258424,  1.80484311],\n",
              "       [-1.03563452, -1.39538596, -0.39468507],\n",
              "       [ 0.96559161,  0.6609477 , -0.8866848 ],\n",
              "       [ 0.96559161,  0.56747799,  1.80484311],\n",
              "       [ 0.96559161,  1.22176597,  0.5024909 ],\n",
              "       [-1.03563452,  1.40870539, -0.98797886],\n",
              "       [ 0.96559161, -0.36721913, -0.29339101],\n",
              "       [ 0.96559161,  0.10012943, -0.16315579],\n",
              "       [-1.03563452, -0.74109798,  0.12625581],\n",
              "       [ 0.96559161,  0.10012943,  0.09731465],\n",
              "       [ 0.96559161, -1.11497682, -0.51044971],\n",
              "       [ 0.96559161,  0.00665972,  0.27096161],\n",
              "       [ 0.96559161, -0.46068884, -0.84327306],\n",
              "       [-1.03563452,  0.94135683,  0.5024909 ],\n",
              "       [-1.03563452,  0.47400828, -1.47997858],\n",
              "       [-1.03563452,  0.6609477 , -0.87221422],\n",
              "       [ 0.96559161,  1.40870539,  1.94954891],\n",
              "       [ 0.96559161,  0.75441741,  1.32731396],\n",
              "       [ 0.96559161, -1.86273452, -1.07480234],\n",
              "       [-1.03563452, -0.36721913, -1.49444916],\n",
              "       [-1.03563452, -0.08680999,  1.3707257 ],\n",
              "       [-1.03563452,  0.56747799, -1.3208022 ],\n",
              "       [ 0.96559161, -1.20844653, -0.43809681],\n",
              "       [ 0.96559161,  1.31523568,  2.06531355],\n",
              "       [ 0.96559161,  0.00665972,  0.09731465],\n",
              "       [ 0.96559161,  0.94135683,  0.43013799],\n",
              "       [-1.03563452,  0.75441741, -1.16162582],\n",
              "       [ 0.96559161, -0.46068884, -1.34974336],\n",
              "       [-1.03563452,  1.03482655,  0.09731465],\n",
              "       [ 0.96559161,  0.19359914, -1.20503756],\n",
              "       [-1.03563452,  2.06299337,  2.09425471],\n",
              "       [ 0.96559161,  0.84788712, -1.40762568],\n",
              "       [ 0.96559161, -1.20844653,  0.66166728],\n",
              "       [-1.03563452,  0.75441741, -1.40762568],\n",
              "       [ 0.96559161,  0.38053856, -0.22103811],\n",
              "       [ 0.96559161, -1.30191625,  0.31437335],\n",
              "       [-1.03563452,  0.10012943, -0.36574391],\n",
              "       [-1.03563452, -0.08680999, -1.08927292],\n",
              "       [ 0.96559161, -0.46068884,  2.13766645],\n",
              "       [-1.03563452,  0.19359914,  0.18413813],\n",
              "       [-1.03563452,  0.47400828,  0.06837349],\n",
              "       [ 0.96559161, -1.20844653,  1.84825485],\n",
              "       [-1.03563452, -1.67579509,  0.22754987],\n",
              "       [ 0.96559161,  0.84788712,  1.96401949],\n",
              "       [-1.03563452, -0.18027971,  0.24202045],\n",
              "       [ 0.96559161, -1.02150711, -0.75644958],\n",
              "       [-1.03563452,  1.22176597, -0.03292057],\n",
              "       [-1.03563452, -0.18027971, -0.06186173],\n",
              "       [-1.03563452, -0.08680999, -0.01844999],\n",
              "       [ 0.96559161, -0.74109798,  2.22448993],\n",
              "       [ 0.96559161,  0.00665972,  2.18107819],\n",
              "       [ 0.96559161,  0.00665972, -0.38021449],\n",
              "       [-1.03563452,  0.56747799, -1.14715524],\n",
              "       [ 0.96559161,  0.10012943, -0.33680275],\n",
              "       [-1.03563452,  0.47400828, -1.36421394],\n",
              "       [ 0.96559161,  1.87605395,  1.48649035],\n",
              "       [-1.03563452,  0.19359914,  0.19860871],\n",
              "       [-1.03563452,  0.19359914, -0.36574391],\n",
              "       [ 0.96559161,  1.22176597, -1.465508  ],\n",
              "       [ 0.96559161, -1.86273452, -1.3208022 ],\n",
              "       [ 0.96559161,  0.84788712, -0.85774364],\n",
              "       [ 0.96559161, -0.74109798,  0.37225567],\n",
              "       [-1.03563452,  2.06299337,  1.71801963],\n",
              "       [ 0.96559161,  0.38053856,  0.03943233],\n",
              "       [-1.03563452,  0.00665972, -0.46703797],\n",
              "       [-1.03563452, -0.9280374 , -1.62468439],\n",
              "       [ 0.96559161, -0.08680999, -0.35127333],\n",
              "       [ 0.96559161,  0.47400828, -0.94456712],\n",
              "       [-1.03563452, -0.46068884, -1.33527278],\n",
              "       [-1.03563452,  0.6609477 , -1.26291988],\n",
              "       [ 0.96559161, -0.18027971, -0.6696261 ],\n",
              "       [-1.03563452,  0.10012943, -0.40915565],\n",
              "       [ 0.96559161, -0.27374942,  0.19860871],\n",
              "       [-1.03563452,  1.5021751 ,  1.73249021],\n",
              "       [-1.03563452,  0.47400828, -0.48150855],\n",
              "       [-1.03563452, -0.27374942,  0.7919025 ],\n",
              "       [-1.03563452, -1.30191625, -1.68256671],\n",
              "       [-1.03563452,  0.00665972, -0.35127333],\n",
              "       [-1.03563452,  0.00665972,  0.18413813],\n",
              "       [-1.03563452, -0.46068884, -0.52492029],\n",
              "       [ 0.96559161, -0.46068884, -0.06186173],\n",
              "       [-1.03563452, -0.46068884,  1.25496106],\n",
              "       [-1.03563452,  0.28706885,  1.61672557],\n",
              "       [-1.03563452, -0.36721913,  0.01049117],\n",
              "       [-1.03563452, -0.36721913, -0.62621436],\n",
              "       [ 0.96559161,  0.75441741,  1.76143137],\n",
              "       [-1.03563452,  0.00665972, -0.46703797],\n",
              "       [ 0.96559161, -1.11497682,  0.70507902],\n",
              "       [-1.03563452, -1.48885567, -0.24997927],\n",
              "       [-1.03563452, -1.95620423, -0.09080289],\n",
              "       [ 0.96559161,  1.22176597,  1.92060775],\n",
              "       [-1.03563452, -1.30191625,  0.53143206],\n",
              "       [-1.03563452, -1.7692648 , -0.65515552],\n",
              "       [-1.03563452,  2.15646309, -0.82880248],\n",
              "       [-1.03563452,  0.6609477 ,  0.47354974],\n",
              "       [-1.03563452,  0.47400828,  0.16966755],\n",
              "       [-1.03563452, -0.9280374 , -0.82880248],\n",
              "       [ 0.96559161, -0.18027971, -0.01844999],\n",
              "       [ 0.96559161,  0.47400828, -0.01844999],\n",
              "       [-1.03563452, -0.64762826,  0.82084366],\n",
              "       [ 0.96559161,  1.03482655,  0.47354974],\n",
              "       [-1.03563452,  0.94135683,  0.99449062],\n",
              "       [ 0.96559161,  1.59564482,  1.0813141 ],\n",
              "       [ 0.96559161,  1.31523568, -1.08927292],\n",
              "       [-1.03563452,  0.19359914,  1.02343178],\n",
              "       [-1.03563452, -1.11497682, -1.49444916],\n",
              "       [ 0.96559161,  0.75441741, -0.65515552],\n",
              "       [ 0.96559161,  2.15646309, -0.71303784],\n",
              "       [ 0.96559161,  1.03482655,  1.94954891],\n",
              "       [ 0.96559161, -1.58232538, -0.20656753],\n",
              "       [ 0.96559161,  0.00665972,  0.21307929],\n",
              "       [ 0.96559161,  0.47400828,  0.12625581],\n",
              "       [-1.03563452,  1.87605395,  0.09731465],\n",
              "       [ 0.96559161,  0.84788712,  1.3707257 ],\n",
              "       [ 0.96559161, -0.18027971, -0.23550869],\n",
              "       [ 0.96559161,  1.5021751 , -1.06033176],\n",
              "       [ 0.96559161,  1.87605395,  0.12625581],\n",
              "       [ 0.96559161, -0.83456769,  0.21307929],\n",
              "       [ 0.96559161,  0.28706885, -0.53939087],\n",
              "       [-1.03563452,  0.28706885, -0.19209695],\n",
              "       [ 0.96559161,  0.94135683, -1.07480234],\n",
              "       [-1.03563452,  1.87605395,  1.68907847],\n",
              "       [-1.03563452,  0.19359914,  0.01049117],\n",
              "       [-1.03563452,  1.59564482, -0.38021449],\n",
              "       [ 0.96559161, -0.9280374 , -0.32233217],\n",
              "       [ 0.96559161,  0.47400828, -0.51044971],\n",
              "       [ 0.96559161, -0.36721913,  2.18107819],\n",
              "       [ 0.96559161, -1.58232538,  0.25649103],\n",
              "       [ 0.96559161,  0.56747799, -1.19056698],\n",
              "       [ 0.96559161, -1.30191625, -1.1037435 ],\n",
              "       [-1.03563452, -1.7692648 ,  0.41566741],\n",
              "       [ 0.96559161,  0.84788712, -1.06033176],\n",
              "       [-1.03563452, -0.18027971, -0.40915565],\n",
              "       [ 0.96559161,  0.6609477 ,  0.29990277],\n",
              "       [ 0.96559161,  0.84788712, -1.07480234],\n",
              "       [-1.03563452, -0.9280374 ,  0.98002004],\n",
              "       [ 0.96559161, -1.58232538, -0.24997927],\n",
              "       [-1.03563452, -1.48885567, -0.43809681],\n",
              "       [-1.03563452, -1.86273452,  0.38672625],\n",
              "       [-1.03563452,  0.84788712,  0.37225567],\n",
              "       [-1.03563452, -1.11497682, -0.39468507],\n",
              "       [-1.03563452, -1.95620423,  0.08284407],\n",
              "       [ 0.96559161, -1.11497682, -0.84327306],\n",
              "       [ 0.96559161,  1.68911453,  1.45754919],\n",
              "       [-1.03563452, -0.08680999, -0.01844999],\n",
              "       [-1.03563452,  0.28706885, -0.22103811],\n",
              "       [ 0.96559161, -0.83456769, -1.13268466],\n",
              "       [ 0.96559161,  0.28706885,  2.06531355],\n",
              "       [ 0.96559161, -0.36721913,  0.73402018],\n",
              "       [ 0.96559161,  0.75441741, -0.5972732 ],\n",
              "       [-1.03563452, -0.9280374 ,  0.45907916],\n",
              "       [ 0.96559161, -0.83456769, -1.68256671],\n",
              "       [-1.03563452, -1.11497682,  0.5024909 ],\n",
              "       [-1.03563452,  0.00665972,  0.14072639],\n",
              "       [ 0.96559161, -1.95620423, -1.36421394],\n",
              "       [ 0.96559161, -1.39538596, -1.14715524],\n",
              "       [ 0.96559161,  0.19359914,  0.01049117],\n",
              "       [ 0.96559161,  0.94135683,  1.05237294],\n",
              "       [ 0.96559161,  1.12829626, -0.91562596],\n",
              "       [-1.03563452, -1.02150711, -0.35127333],\n",
              "       [-1.03563452,  0.10012943,  0.16966755],\n",
              "       [-1.03563452,  0.00665972, -0.53939087],\n",
              "       [ 0.96559161,  1.03482655,  1.76143137],\n",
              "       [-1.03563452,  0.84788712,  1.34178454],\n",
              "       [ 0.96559161, -0.36721913, -0.79986132],\n",
              "       [-1.03563452,  0.94135683, -1.26291988],\n",
              "       [ 0.96559161, -0.36721913, -0.55386146],\n",
              "       [ 0.96559161, -0.27374942,  0.14072639],\n",
              "       [-1.03563452, -1.20844653,  0.27096161],\n",
              "       [ 0.96559161, -0.55415855, -0.07633231],\n",
              "       [ 0.96559161, -0.55415855,  1.19707874],\n",
              "       [-1.03563452,  1.96952366, -0.85774364],\n",
              "       [ 0.96559161, -1.20844653,  0.31437335],\n",
              "       [-1.03563452, -1.39538596, -1.40762568],\n",
              "       [-1.03563452, -0.18027971,  0.21307929],\n",
              "       [-1.03563452,  0.94135683, -1.06033176],\n",
              "       [-1.03563452, -0.9280374 , -0.82880248],\n",
              "       [-1.03563452,  1.87605395, -0.30786159],\n",
              "       [ 0.96559161,  0.28706885,  0.53143206],\n",
              "       [-1.03563452,  0.10012943,  1.02343178],\n",
              "       [ 0.96559161,  1.59564482, -1.16162582],\n",
              "       [-1.03563452,  0.28706885, -0.51044971],\n",
              "       [-1.03563452,  0.19359914, -0.23550869],\n",
              "       [-1.03563452, -0.36721913, -1.29186104],\n",
              "       [ 0.96559161,  0.75441741, -1.20503756],\n",
              "       [ 0.96559161,  0.75441741,  1.19707874],\n",
              "       [ 0.96559161,  1.68911453, -1.11821408],\n",
              "       [ 0.96559161,  0.84788712, -1.11821408],\n",
              "       [ 0.96559161,  1.87605395, -1.29186104],\n",
              "       [-1.03563452,  0.84788712, -0.23550869],\n",
              "       [ 0.96559161, -0.18027971, -0.6696261 ],\n",
              "       [ 0.96559161,  0.47400828,  0.27096161],\n",
              "       [-1.03563452,  0.6609477 , -1.3931551 ],\n",
              "       [-1.03563452,  0.28706885, -0.27892043],\n",
              "       [-1.03563452, -1.39538596,  0.19860871],\n",
              "       [-1.03563452, -0.64762826, -1.55233149],\n",
              "       [-1.03563452,  0.47400828, -1.19056698],\n",
              "       [ 0.96559161, -1.39538596, -1.29186104],\n",
              "       [ 0.96559161,  1.59564482,  0.96554946]])"
            ]
          },
          "metadata": {},
          "execution_count": 21
        }
      ]
    },
    {
      "cell_type": "code",
      "source": [
        "Y_test"
      ],
      "metadata": {
        "colab": {
          "base_uri": "https://localhost:8080/"
        },
        "id": "tcbwCqYwN4Ls",
        "outputId": "a88bb908-ea2b-44fb-81ee-1d025bc954f4"
      },
      "execution_count": null,
      "outputs": [
        {
          "output_type": "execute_result",
          "data": {
            "text/plain": [
              "521    0\n",
              "737    1\n",
              "740    0\n",
              "660    1\n",
              "411    0\n",
              "      ..\n",
              "408    0\n",
              "332    0\n",
              "208    1\n",
              "613    0\n",
              "78     1\n",
              "Name: Purchased, Length: 200, dtype: int64"
            ]
          },
          "metadata": {},
          "execution_count": 22
        }
      ]
    },
    {
      "cell_type": "markdown",
      "source": [
        "# **Aplicando a regressão Logística!**"
      ],
      "metadata": {
        "id": "hRfga8_gN8wc"
      }
    },
    {
      "cell_type": "code",
      "source": [
        "# Utilizaremos a skleran\n",
        "from sklearn.linear_model import LogisticRegression"
      ],
      "metadata": {
        "id": "3ts3qIoJOLRl"
      },
      "execution_count": null,
      "outputs": []
    },
    {
      "cell_type": "markdown",
      "source": [
        "# Iniciando Treinamento\n",
        "\n",
        "Essa etapa é onde encontramos os coeficientes (parametros) da nossa equação."
      ],
      "metadata": {
        "id": "bA-4mtoZOXFu"
      }
    },
    {
      "cell_type": "code",
      "source": [
        "logistic_carro = LogisticRegression(random_state = 0)\n",
        "# poderiamos adicionar max_iter = um valor. Ele controla o número máximo de vezes que o algoritmo itera sobre o conjunto de dados para encontrar os melhores coeficientes."
      ],
      "metadata": {
        "id": "b4fjeYG6OWPW"
      },
      "execution_count": null,
      "outputs": []
    },
    {
      "cell_type": "code",
      "source": [
        "logistic_carro.fit(X_train_balanced, Y_train_balanced)"
      ],
      "metadata": {
        "colab": {
          "base_uri": "https://localhost:8080/",
          "height": 74
        },
        "id": "mCp2Uw4cPCO5",
        "outputId": "99f2f935-8a40-4b81-b1dd-74a5297d862f"
      },
      "execution_count": null,
      "outputs": [
        {
          "output_type": "execute_result",
          "data": {
            "text/plain": [
              "LogisticRegression(random_state=0)"
            ],
            "text/html": [
              "<style>#sk-container-id-1 {color: black;background-color: white;}#sk-container-id-1 pre{padding: 0;}#sk-container-id-1 div.sk-toggleable {background-color: white;}#sk-container-id-1 label.sk-toggleable__label {cursor: pointer;display: block;width: 100%;margin-bottom: 0;padding: 0.3em;box-sizing: border-box;text-align: center;}#sk-container-id-1 label.sk-toggleable__label-arrow:before {content: \"▸\";float: left;margin-right: 0.25em;color: #696969;}#sk-container-id-1 label.sk-toggleable__label-arrow:hover:before {color: black;}#sk-container-id-1 div.sk-estimator:hover label.sk-toggleable__label-arrow:before {color: black;}#sk-container-id-1 div.sk-toggleable__content {max-height: 0;max-width: 0;overflow: hidden;text-align: left;background-color: #f0f8ff;}#sk-container-id-1 div.sk-toggleable__content pre {margin: 0.2em;color: black;border-radius: 0.25em;background-color: #f0f8ff;}#sk-container-id-1 input.sk-toggleable__control:checked~div.sk-toggleable__content {max-height: 200px;max-width: 100%;overflow: auto;}#sk-container-id-1 input.sk-toggleable__control:checked~label.sk-toggleable__label-arrow:before {content: \"▾\";}#sk-container-id-1 div.sk-estimator input.sk-toggleable__control:checked~label.sk-toggleable__label {background-color: #d4ebff;}#sk-container-id-1 div.sk-label input.sk-toggleable__control:checked~label.sk-toggleable__label {background-color: #d4ebff;}#sk-container-id-1 input.sk-hidden--visually {border: 0;clip: rect(1px 1px 1px 1px);clip: rect(1px, 1px, 1px, 1px);height: 1px;margin: -1px;overflow: hidden;padding: 0;position: absolute;width: 1px;}#sk-container-id-1 div.sk-estimator {font-family: monospace;background-color: #f0f8ff;border: 1px dotted black;border-radius: 0.25em;box-sizing: border-box;margin-bottom: 0.5em;}#sk-container-id-1 div.sk-estimator:hover {background-color: #d4ebff;}#sk-container-id-1 div.sk-parallel-item::after {content: \"\";width: 100%;border-bottom: 1px solid gray;flex-grow: 1;}#sk-container-id-1 div.sk-label:hover label.sk-toggleable__label {background-color: #d4ebff;}#sk-container-id-1 div.sk-serial::before {content: \"\";position: absolute;border-left: 1px solid gray;box-sizing: border-box;top: 0;bottom: 0;left: 50%;z-index: 0;}#sk-container-id-1 div.sk-serial {display: flex;flex-direction: column;align-items: center;background-color: white;padding-right: 0.2em;padding-left: 0.2em;position: relative;}#sk-container-id-1 div.sk-item {position: relative;z-index: 1;}#sk-container-id-1 div.sk-parallel {display: flex;align-items: stretch;justify-content: center;background-color: white;position: relative;}#sk-container-id-1 div.sk-item::before, #sk-container-id-1 div.sk-parallel-item::before {content: \"\";position: absolute;border-left: 1px solid gray;box-sizing: border-box;top: 0;bottom: 0;left: 50%;z-index: -1;}#sk-container-id-1 div.sk-parallel-item {display: flex;flex-direction: column;z-index: 1;position: relative;background-color: white;}#sk-container-id-1 div.sk-parallel-item:first-child::after {align-self: flex-end;width: 50%;}#sk-container-id-1 div.sk-parallel-item:last-child::after {align-self: flex-start;width: 50%;}#sk-container-id-1 div.sk-parallel-item:only-child::after {width: 0;}#sk-container-id-1 div.sk-dashed-wrapped {border: 1px dashed gray;margin: 0 0.4em 0.5em 0.4em;box-sizing: border-box;padding-bottom: 0.4em;background-color: white;}#sk-container-id-1 div.sk-label label {font-family: monospace;font-weight: bold;display: inline-block;line-height: 1.2em;}#sk-container-id-1 div.sk-label-container {text-align: center;}#sk-container-id-1 div.sk-container {/* jupyter's `normalize.less` sets `[hidden] { display: none; }` but bootstrap.min.css set `[hidden] { display: none !important; }` so we also need the `!important` here to be able to override the default hidden behavior on the sphinx rendered scikit-learn.org. See: https://github.com/scikit-learn/scikit-learn/issues/21755 */display: inline-block !important;position: relative;}#sk-container-id-1 div.sk-text-repr-fallback {display: none;}</style><div id=\"sk-container-id-1\" class=\"sk-top-container\"><div class=\"sk-text-repr-fallback\"><pre>LogisticRegression(random_state=0)</pre><b>In a Jupyter environment, please rerun this cell to show the HTML representation or trust the notebook. <br />On GitHub, the HTML representation is unable to render, please try loading this page with nbviewer.org.</b></div><div class=\"sk-container\" hidden><div class=\"sk-item\"><div class=\"sk-estimator sk-toggleable\"><input class=\"sk-toggleable__control sk-hidden--visually\" id=\"sk-estimator-id-1\" type=\"checkbox\" checked><label for=\"sk-estimator-id-1\" class=\"sk-toggleable__label sk-toggleable__label-arrow\">LogisticRegression</label><div class=\"sk-toggleable__content\"><pre>LogisticRegression(random_state=0)</pre></div></div></div></div></div>"
            ]
          },
          "metadata": {},
          "execution_count": 25
        }
      ]
    },
    {
      "cell_type": "code",
      "source": [
        "logistic_carro.intercept_"
      ],
      "metadata": {
        "colab": {
          "base_uri": "https://localhost:8080/"
        },
        "id": "jU8H7BlxPOu5",
        "outputId": "0cca7c79-ceb9-4d3b-d004-b91db132810b"
      },
      "execution_count": null,
      "outputs": [
        {
          "output_type": "execute_result",
          "data": {
            "text/plain": [
              "array([-0.46345464])"
            ]
          },
          "metadata": {},
          "execution_count": 26
        }
      ]
    },
    {
      "cell_type": "code",
      "source": [
        "logistic_carro.coef_"
      ],
      "metadata": {
        "colab": {
          "base_uri": "https://localhost:8080/"
        },
        "id": "t3F2eEnZPgXJ",
        "outputId": "513345f1-ff37-4330-8746-bf142030785d"
      },
      "execution_count": null,
      "outputs": [
        {
          "output_type": "execute_result",
          "data": {
            "text/plain": [
              "array([[-0.22872152,  2.42205404,  1.28951364]])"
            ]
          },
          "metadata": {},
          "execution_count": 27
        }
      ]
    },
    {
      "cell_type": "markdown",
      "source": [
        "Um valor para cada variável, como vimos na regressão linear multipla."
      ],
      "metadata": {
        "id": "FlnYni6aPnVZ"
      }
    },
    {
      "cell_type": "markdown",
      "source": [
        "Nossa etapa de treinamento do modelo está completa, temos os coeficientes e podemos na próxima aula aplicar o teste e avaliar nosso modelo."
      ],
      "metadata": {
        "id": "Gf4CqiULP5HU"
      }
    },
    {
      "cell_type": "markdown",
      "source": [
        "\n",
        "# Avaliação\n"
      ],
      "metadata": {
        "id": "UjNP5LR3QHe6"
      }
    },
    {
      "cell_type": "code",
      "source": [
        "previsoes = logistic_carro.predict(X_train_balanced)"
      ],
      "metadata": {
        "id": "M8niOHVlSExK"
      },
      "execution_count": null,
      "outputs": []
    },
    {
      "cell_type": "code",
      "source": [
        "relatorio = classification_report(Y_train_balanced, previsoes)\n",
        "print(\"Relatório de Classificação:\")\n",
        "print(relatorio)"
      ],
      "metadata": {
        "colab": {
          "base_uri": "https://localhost:8080/"
        },
        "id": "rbY9XR1ySbrn",
        "outputId": "c682f4a8-f8eb-451f-db37-5893cbb7dab7"
      },
      "execution_count": null,
      "outputs": [
        {
          "output_type": "stream",
          "name": "stdout",
          "text": [
            "Relatório de Classificação:\n",
            "              precision    recall  f1-score   support\n",
            "\n",
            "           0       0.84      0.86      0.85       486\n",
            "           1       0.85      0.83      0.84       486\n",
            "\n",
            "    accuracy                           0.84       972\n",
            "   macro avg       0.84      0.84      0.84       972\n",
            "weighted avg       0.84      0.84      0.84       972\n",
            "\n"
          ]
        }
      ]
    },
    {
      "cell_type": "markdown",
      "source": [
        "Vamos começar aplicando a base de treste nosso modelo!"
      ],
      "metadata": {
        "id": "xF9RCRmJQSso"
      }
    },
    {
      "cell_type": "code",
      "source": [
        "Y_pred_test = logistic_carro.predict(X_test)"
      ],
      "metadata": {
        "id": "MK7ZC5LxQHG_"
      },
      "execution_count": null,
      "outputs": []
    },
    {
      "cell_type": "code",
      "source": [
        "relatorio = classification_report(Y_test, Y_pred_test)\n",
        "print(\"Relatório de Classificação:\")\n",
        "print(relatorio)"
      ],
      "metadata": {
        "colab": {
          "base_uri": "https://localhost:8080/"
        },
        "id": "_dpW1HXGQjcg",
        "outputId": "8e6933a2-7aea-4163-c7ee-1f6d6bfff2ad"
      },
      "execution_count": null,
      "outputs": [
        {
          "output_type": "stream",
          "name": "stdout",
          "text": [
            "Relatório de Classificação:\n",
            "              precision    recall  f1-score   support\n",
            "\n",
            "           0       0.80      0.82      0.81       112\n",
            "           1       0.76      0.74      0.75        88\n",
            "\n",
            "    accuracy                           0.79       200\n",
            "   macro avg       0.78      0.78      0.78       200\n",
            "weighted avg       0.78      0.79      0.78       200\n",
            "\n"
          ]
        }
      ]
    },
    {
      "cell_type": "markdown",
      "source": [
        "* A precisão de 0.76 para a classe 1 indica que 76% das instâncias que foram previstas como classe 1 realmente pertencem à classe 1.\n",
        "\n",
        "* A revocação de 0.74 para a classe 1 indica que 74% das instâncias que pertencem à classe 1 foram corretamente identificadas pelo modelo.\n",
        "\n",
        "* O F1-score de 0.75 para a classe 1 é a média harmônica da precisão e da revocação para a classe 1."
      ],
      "metadata": {
        "id": "ajIQw-vrSgZY"
      }
    },
    {
      "cell_type": "markdown",
      "source": [
        "# CURVA AUC - ROC"
      ],
      "metadata": {
        "id": "uU_-VO-VWB8W"
      }
    },
    {
      "cell_type": "markdown",
      "source": [
        "**TPR - True Positive Rate**\n",
        "\n",
        "\n",
        "**FPR - False Positive Rate**"
      ],
      "metadata": {
        "id": "ORIHimsoYAWA"
      }
    },
    {
      "cell_type": "code",
      "source": [
        "from sklearn.metrics import roc_curve, roc_auc_score, classification_report\n",
        "fpr, tpr, thresholds = roc_curve(Y_test, Y_pred_test)\n",
        "\n",
        "# Calcular a AUC\n",
        "roc_auc = roc_auc_score(Y_test, Y_pred_test)\n",
        "print(\"AUC: {:.2f}\".format(roc_auc))"
      ],
      "metadata": {
        "colab": {
          "base_uri": "https://localhost:8080/"
        },
        "id": "1uoG3DPfX_-K",
        "outputId": "5c5c0810-54fb-46cf-a4b0-ebe15758518d"
      },
      "execution_count": null,
      "outputs": [
        {
          "output_type": "stream",
          "name": "stdout",
          "text": [
            "AUC: 0.78\n"
          ]
        }
      ]
    },
    {
      "cell_type": "code",
      "source": [
        "plt.figure()\n",
        "plt.plot(fpr, tpr, color='darkorange', lw=2, label='ROC curve (area = %0.2f)' % roc_auc)\n",
        "plt.plot([0, 1], [0, 1], color='navy', lw=2, linestyle='--')\n",
        "plt.xlim([0.0, 1.0])\n",
        "plt.ylim([0.0, 1.05])\n",
        "plt.xlabel('False Positive Rate')\n",
        "plt.ylabel('True Positive Rate')\n",
        "plt.title('Receiver Operating Characteristic')\n",
        "plt.legend(loc=\"lower right\")\n",
        "plt.show()"
      ],
      "metadata": {
        "colab": {
          "base_uri": "https://localhost:8080/",
          "height": 472
        },
        "id": "EzsI-IbMWMUO",
        "outputId": "65ca2efe-102a-414e-c88b-41a2e53d5b8f"
      },
      "execution_count": null,
      "outputs": [
        {
          "output_type": "display_data",
          "data": {
            "text/plain": [
              "<Figure size 640x480 with 1 Axes>"
            ],
            "image/png": "[encoded data removed]"
          },
          "metadata": {}
        }
      ]
    }
  ]
}